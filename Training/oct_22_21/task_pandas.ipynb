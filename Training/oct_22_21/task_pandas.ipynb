{
 "cells": [
  {
   "cell_type": "code",
   "execution_count": 1,
   "id": "174f6e84",
   "metadata": {},
   "outputs": [],
   "source": [
    "import pandas as pd"
   ]
  },
  {
   "cell_type": "code",
   "execution_count": 38,
   "id": "31956fea",
   "metadata": {},
   "outputs": [],
   "source": [
    "df = pd.read_csv(r\"data.csv\")"
   ]
  },
  {
   "cell_type": "code",
   "execution_count": 5,
   "id": "07c1852d",
   "metadata": {},
   "outputs": [
    {
     "data": {
      "text/html": [
       "<div>\n",
       "<style scoped>\n",
       "    .dataframe tbody tr th:only-of-type {\n",
       "        vertical-align: middle;\n",
       "    }\n",
       "\n",
       "    .dataframe tbody tr th {\n",
       "        vertical-align: top;\n",
       "    }\n",
       "\n",
       "    .dataframe thead th {\n",
       "        text-align: right;\n",
       "    }\n",
       "</style>\n",
       "<table border=\"1\" class=\"dataframe\">\n",
       "  <thead>\n",
       "    <tr style=\"text-align: right;\">\n",
       "      <th></th>\n",
       "      <th>testcasename</th>\n",
       "      <th>expected</th>\n",
       "      <th>results</th>\n",
       "    </tr>\n",
       "  </thead>\n",
       "  <tbody>\n",
       "    <tr>\n",
       "      <th>0</th>\n",
       "      <td>test1</td>\n",
       "      <td>10.0</td>\n",
       "      <td>20.0</td>\n",
       "    </tr>\n",
       "    <tr>\n",
       "      <th>1</th>\n",
       "      <td>test2</td>\n",
       "      <td>20.0</td>\n",
       "      <td>20.0</td>\n",
       "    </tr>\n",
       "    <tr>\n",
       "      <th>2</th>\n",
       "      <td>test3</td>\n",
       "      <td>50.0</td>\n",
       "      <td>50.0</td>\n",
       "    </tr>\n",
       "    <tr>\n",
       "      <th>3</th>\n",
       "      <td>test4</td>\n",
       "      <td>15.0</td>\n",
       "      <td>15.0</td>\n",
       "    </tr>\n",
       "    <tr>\n",
       "      <th>4</th>\n",
       "      <td>test5</td>\n",
       "      <td>25.0</td>\n",
       "      <td>20.0</td>\n",
       "    </tr>\n",
       "  </tbody>\n",
       "</table>\n",
       "</div>"
      ],
      "text/plain": [
       "  testcasename  expected  results\n",
       "0        test1      10.0     20.0\n",
       "1        test2      20.0     20.0\n",
       "2        test3      50.0     50.0\n",
       "3        test4      15.0     15.0\n",
       "4        test5      25.0     20.0"
      ]
     },
     "execution_count": 5,
     "metadata": {},
     "output_type": "execute_result"
    }
   ],
   "source": [
    "df.head()"
   ]
  },
  {
   "cell_type": "code",
   "execution_count": 39,
   "id": "297c4227",
   "metadata": {},
   "outputs": [
    {
     "data": {
      "text/html": [
       "<div>\n",
       "<style scoped>\n",
       "    .dataframe tbody tr th:only-of-type {\n",
       "        vertical-align: middle;\n",
       "    }\n",
       "\n",
       "    .dataframe tbody tr th {\n",
       "        vertical-align: top;\n",
       "    }\n",
       "\n",
       "    .dataframe thead th {\n",
       "        text-align: right;\n",
       "    }\n",
       "</style>\n",
       "<table border=\"1\" class=\"dataframe\">\n",
       "  <thead>\n",
       "    <tr style=\"text-align: right;\">\n",
       "      <th></th>\n",
       "      <th>testcasename</th>\n",
       "      <th>expected</th>\n",
       "      <th>results</th>\n",
       "    </tr>\n",
       "  </thead>\n",
       "  <tbody>\n",
       "    <tr>\n",
       "      <th>0</th>\n",
       "      <td>test1</td>\n",
       "      <td>10.000000</td>\n",
       "      <td>20.0</td>\n",
       "    </tr>\n",
       "    <tr>\n",
       "      <th>1</th>\n",
       "      <td>test2</td>\n",
       "      <td>20.000000</td>\n",
       "      <td>20.0</td>\n",
       "    </tr>\n",
       "    <tr>\n",
       "      <th>2</th>\n",
       "      <td>test3</td>\n",
       "      <td>50.000000</td>\n",
       "      <td>50.0</td>\n",
       "    </tr>\n",
       "    <tr>\n",
       "      <th>3</th>\n",
       "      <td>test4</td>\n",
       "      <td>15.000000</td>\n",
       "      <td>15.0</td>\n",
       "    </tr>\n",
       "    <tr>\n",
       "      <th>4</th>\n",
       "      <td>test5</td>\n",
       "      <td>25.000000</td>\n",
       "      <td>20.0</td>\n",
       "    </tr>\n",
       "    <tr>\n",
       "      <th>5</th>\n",
       "      <td>test6</td>\n",
       "      <td>20.833333</td>\n",
       "      <td>30.0</td>\n",
       "    </tr>\n",
       "    <tr>\n",
       "      <th>6</th>\n",
       "      <td>test7</td>\n",
       "      <td>20.833333</td>\n",
       "      <td>NaN</td>\n",
       "    </tr>\n",
       "    <tr>\n",
       "      <th>7</th>\n",
       "      <td>test8</td>\n",
       "      <td>5.000000</td>\n",
       "      <td>NaN</td>\n",
       "    </tr>\n",
       "  </tbody>\n",
       "</table>\n",
       "</div>"
      ],
      "text/plain": [
       "  testcasename   expected  results\n",
       "0        test1  10.000000     20.0\n",
       "1        test2  20.000000     20.0\n",
       "2        test3  50.000000     50.0\n",
       "3        test4  15.000000     15.0\n",
       "4        test5  25.000000     20.0\n",
       "5        test6  20.833333     30.0\n",
       "6        test7  20.833333      NaN\n",
       "7        test8   5.000000      NaN"
      ]
     },
     "execution_count": 39,
     "metadata": {},
     "output_type": "execute_result"
    }
   ],
   "source": [
    "df['expected'].fillna(df['expected'].mean(), inplace = True)\n",
    "df"
   ]
  },
  {
   "cell_type": "code",
   "execution_count": 40,
   "id": "488a04ee",
   "metadata": {},
   "outputs": [
    {
     "data": {
      "text/html": [
       "<div>\n",
       "<style scoped>\n",
       "    .dataframe tbody tr th:only-of-type {\n",
       "        vertical-align: middle;\n",
       "    }\n",
       "\n",
       "    .dataframe tbody tr th {\n",
       "        vertical-align: top;\n",
       "    }\n",
       "\n",
       "    .dataframe thead th {\n",
       "        text-align: right;\n",
       "    }\n",
       "</style>\n",
       "<table border=\"1\" class=\"dataframe\">\n",
       "  <thead>\n",
       "    <tr style=\"text-align: right;\">\n",
       "      <th></th>\n",
       "      <th>testcasename</th>\n",
       "      <th>expected</th>\n",
       "      <th>results</th>\n",
       "    </tr>\n",
       "  </thead>\n",
       "  <tbody>\n",
       "    <tr>\n",
       "      <th>0</th>\n",
       "      <td>test1</td>\n",
       "      <td>10.000000</td>\n",
       "      <td>20.000000</td>\n",
       "    </tr>\n",
       "    <tr>\n",
       "      <th>1</th>\n",
       "      <td>test2</td>\n",
       "      <td>20.000000</td>\n",
       "      <td>20.000000</td>\n",
       "    </tr>\n",
       "    <tr>\n",
       "      <th>2</th>\n",
       "      <td>test3</td>\n",
       "      <td>50.000000</td>\n",
       "      <td>50.000000</td>\n",
       "    </tr>\n",
       "    <tr>\n",
       "      <th>3</th>\n",
       "      <td>test4</td>\n",
       "      <td>15.000000</td>\n",
       "      <td>15.000000</td>\n",
       "    </tr>\n",
       "    <tr>\n",
       "      <th>4</th>\n",
       "      <td>test5</td>\n",
       "      <td>25.000000</td>\n",
       "      <td>20.000000</td>\n",
       "    </tr>\n",
       "    <tr>\n",
       "      <th>5</th>\n",
       "      <td>test6</td>\n",
       "      <td>20.833333</td>\n",
       "      <td>30.000000</td>\n",
       "    </tr>\n",
       "    <tr>\n",
       "      <th>6</th>\n",
       "      <td>test7</td>\n",
       "      <td>20.833333</td>\n",
       "      <td>25.833333</td>\n",
       "    </tr>\n",
       "    <tr>\n",
       "      <th>7</th>\n",
       "      <td>test8</td>\n",
       "      <td>5.000000</td>\n",
       "      <td>25.833333</td>\n",
       "    </tr>\n",
       "  </tbody>\n",
       "</table>\n",
       "</div>"
      ],
      "text/plain": [
       "  testcasename   expected    results\n",
       "0        test1  10.000000  20.000000\n",
       "1        test2  20.000000  20.000000\n",
       "2        test3  50.000000  50.000000\n",
       "3        test4  15.000000  15.000000\n",
       "4        test5  25.000000  20.000000\n",
       "5        test6  20.833333  30.000000\n",
       "6        test7  20.833333  25.833333\n",
       "7        test8   5.000000  25.833333"
      ]
     },
     "execution_count": 40,
     "metadata": {},
     "output_type": "execute_result"
    }
   ],
   "source": [
    "df['results'].fillna(df['results'].mean(), inplace = True)\n",
    "df"
   ]
  },
  {
   "cell_type": "code",
   "execution_count": 43,
   "id": "cde5b436",
   "metadata": {},
   "outputs": [],
   "source": [
    "df['status'] = None"
   ]
  },
  {
   "cell_type": "code",
   "execution_count": 44,
   "id": "5141d61d",
   "metadata": {},
   "outputs": [
    {
     "name": "stderr",
     "output_type": "stream",
     "text": [
      "<ipython-input-44-9ab5c9559fa0>:5: SettingWithCopyWarning: \n",
      "A value is trying to be set on a copy of a slice from a DataFrame\n",
      "\n",
      "See the caveats in the documentation: https://pandas.pydata.org/pandas-docs/stable/user_guide/indexing.html#returning-a-view-versus-a-copy\n",
      "  df['status'][ind] = 'Fail'\n",
      "<ipython-input-44-9ab5c9559fa0>:3: SettingWithCopyWarning: \n",
      "A value is trying to be set on a copy of a slice from a DataFrame\n",
      "\n",
      "See the caveats in the documentation: https://pandas.pydata.org/pandas-docs/stable/user_guide/indexing.html#returning-a-view-versus-a-copy\n",
      "  df['status'][ind] = 'pass'\n"
     ]
    }
   ],
   "source": [
    "for ind in df.index:\n",
    "    if df['expected'][ind] == df['results'][ind]:\n",
    "        df['status'][ind] = 'pass'\n",
    "    elif df['expected'][ind] != df['results'][ind]:\n",
    "        df['status'][ind] = 'Fail'"
   ]
  },
  {
   "cell_type": "code",
   "execution_count": 45,
   "id": "944d4d64",
   "metadata": {},
   "outputs": [
    {
     "data": {
      "text/html": [
       "<div>\n",
       "<style scoped>\n",
       "    .dataframe tbody tr th:only-of-type {\n",
       "        vertical-align: middle;\n",
       "    }\n",
       "\n",
       "    .dataframe tbody tr th {\n",
       "        vertical-align: top;\n",
       "    }\n",
       "\n",
       "    .dataframe thead th {\n",
       "        text-align: right;\n",
       "    }\n",
       "</style>\n",
       "<table border=\"1\" class=\"dataframe\">\n",
       "  <thead>\n",
       "    <tr style=\"text-align: right;\">\n",
       "      <th></th>\n",
       "      <th>testcasename</th>\n",
       "      <th>expected</th>\n",
       "      <th>results</th>\n",
       "      <th>status</th>\n",
       "    </tr>\n",
       "  </thead>\n",
       "  <tbody>\n",
       "    <tr>\n",
       "      <th>0</th>\n",
       "      <td>test1</td>\n",
       "      <td>10.000000</td>\n",
       "      <td>20.000000</td>\n",
       "      <td>Fail</td>\n",
       "    </tr>\n",
       "    <tr>\n",
       "      <th>1</th>\n",
       "      <td>test2</td>\n",
       "      <td>20.000000</td>\n",
       "      <td>20.000000</td>\n",
       "      <td>pass</td>\n",
       "    </tr>\n",
       "    <tr>\n",
       "      <th>2</th>\n",
       "      <td>test3</td>\n",
       "      <td>50.000000</td>\n",
       "      <td>50.000000</td>\n",
       "      <td>pass</td>\n",
       "    </tr>\n",
       "    <tr>\n",
       "      <th>3</th>\n",
       "      <td>test4</td>\n",
       "      <td>15.000000</td>\n",
       "      <td>15.000000</td>\n",
       "      <td>pass</td>\n",
       "    </tr>\n",
       "    <tr>\n",
       "      <th>4</th>\n",
       "      <td>test5</td>\n",
       "      <td>25.000000</td>\n",
       "      <td>20.000000</td>\n",
       "      <td>Fail</td>\n",
       "    </tr>\n",
       "    <tr>\n",
       "      <th>5</th>\n",
       "      <td>test6</td>\n",
       "      <td>20.833333</td>\n",
       "      <td>30.000000</td>\n",
       "      <td>Fail</td>\n",
       "    </tr>\n",
       "    <tr>\n",
       "      <th>6</th>\n",
       "      <td>test7</td>\n",
       "      <td>20.833333</td>\n",
       "      <td>25.833333</td>\n",
       "      <td>Fail</td>\n",
       "    </tr>\n",
       "    <tr>\n",
       "      <th>7</th>\n",
       "      <td>test8</td>\n",
       "      <td>5.000000</td>\n",
       "      <td>25.833333</td>\n",
       "      <td>Fail</td>\n",
       "    </tr>\n",
       "  </tbody>\n",
       "</table>\n",
       "</div>"
      ],
      "text/plain": [
       "  testcasename   expected    results status\n",
       "0        test1  10.000000  20.000000   Fail\n",
       "1        test2  20.000000  20.000000   pass\n",
       "2        test3  50.000000  50.000000   pass\n",
       "3        test4  15.000000  15.000000   pass\n",
       "4        test5  25.000000  20.000000   Fail\n",
       "5        test6  20.833333  30.000000   Fail\n",
       "6        test7  20.833333  25.833333   Fail\n",
       "7        test8   5.000000  25.833333   Fail"
      ]
     },
     "execution_count": 45,
     "metadata": {},
     "output_type": "execute_result"
    }
   ],
   "source": [
    "df"
   ]
  },
  {
   "cell_type": "code",
   "execution_count": 33,
   "id": "e1a56ccb",
   "metadata": {},
   "outputs": [
    {
     "data": {
      "text/plain": [
       "<AxesSubplot:>"
      ]
     },
     "execution_count": 33,
     "metadata": {},
     "output_type": "execute_result"
    },
    {
     "data": {
      "image/png": "[encoded data removed]",
      "text/plain": [
       "<Figure size 432x288 with 1 Axes>"
      ]
     },
     "metadata": {
      "needs_background": "light"
     },
     "output_type": "display_data"
    }
   ],
   "source": [
    "df.plot.bar()"
   ]
  },
  {
   "cell_type": "code",
   "execution_count": 34,
   "id": "e51ffa34",
   "metadata": {},
   "outputs": [
    {
     "name": "stdout",
     "output_type": "stream",
     "text": [
      "Help on function factorize in module pandas.core.algorithms:\n",
      "\n",
      "factorize(values, sort: 'bool' = False, na_sentinel: 'Optional[int]' = -1, size_hint: 'Optional[int]' = None) -> \"Tuple[np.ndarray, Union[np.ndarray, 'Index']]\"\n",
      "    Encode the object as an enumerated type or categorical variable.\n",
      "    \n",
      "    This method is useful for obtaining a numeric representation of an\n",
      "    array when all that matters is identifying distinct values. `factorize`\n",
      "    is available as both a top-level function :func:`pandas.factorize`,\n",
      "    and as a method :meth:`Series.factorize` and :meth:`Index.factorize`.\n",
      "    \n",
      "    Parameters\n",
      "    ----------\n",
      "    values : sequence\n",
      "        A 1-D sequence. Sequences that aren't pandas objects are\n",
      "        coerced to ndarrays before factorization.\n",
      "    sort : bool, default False\n",
      "        Sort `uniques` and shuffle `codes` to maintain the\n",
      "        relationship.\n",
      "    \n",
      "    na_sentinel : int or None, default -1\n",
      "        Value to mark \"not found\". If None, will not drop the NaN\n",
      "        from the uniques of the values.\n",
      "    \n",
      "        .. versionchanged:: 1.1.2\n",
      "    size_hint : int, optional\n",
      "        Hint to the hashtable sizer.\n",
      "    \n",
      "    Returns\n",
      "    -------\n",
      "    codes : ndarray\n",
      "        An integer ndarray that's an indexer into `uniques`.\n",
      "        ``uniques.take(codes)`` will have the same values as `values`.\n",
      "    uniques : ndarray, Index, or Categorical\n",
      "        The unique valid values. When `values` is Categorical, `uniques`\n",
      "        is a Categorical. When `values` is some other pandas object, an\n",
      "        `Index` is returned. Otherwise, a 1-D ndarray is returned.\n",
      "    \n",
      "        .. note ::\n",
      "    \n",
      "           Even if there's a missing value in `values`, `uniques` will\n",
      "           *not* contain an entry for it.\n",
      "    \n",
      "    See Also\n",
      "    --------\n",
      "    cut : Discretize continuous-valued array.\n",
      "    unique : Find the unique value in an array.\n",
      "    \n",
      "    Examples\n",
      "    --------\n",
      "    These examples all show factorize as a top-level method like\n",
      "    ``pd.factorize(values)``. The results are identical for methods like\n",
      "    :meth:`Series.factorize`.\n",
      "    \n",
      "    >>> codes, uniques = pd.factorize(['b', 'b', 'a', 'c', 'b'])\n",
      "    >>> codes\n",
      "    array([0, 0, 1, 2, 0]...)\n",
      "    >>> uniques\n",
      "    array(['b', 'a', 'c'], dtype=object)\n",
      "    \n",
      "    With ``sort=True``, the `uniques` will be sorted, and `codes` will be\n",
      "    shuffled so that the relationship is the maintained.\n",
      "    \n",
      "    >>> codes, uniques = pd.factorize(['b', 'b', 'a', 'c', 'b'], sort=True)\n",
      "    >>> codes\n",
      "    array([1, 1, 0, 2, 1]...)\n",
      "    >>> uniques\n",
      "    array(['a', 'b', 'c'], dtype=object)\n",
      "    \n",
      "    Missing values are indicated in `codes` with `na_sentinel`\n",
      "    (``-1`` by default). Note that missing values are never\n",
      "    included in `uniques`.\n",
      "    \n",
      "    >>> codes, uniques = pd.factorize(['b', None, 'a', 'c', 'b'])\n",
      "    >>> codes\n",
      "    array([ 0, -1,  1,  2,  0]...)\n",
      "    >>> uniques\n",
      "    array(['b', 'a', 'c'], dtype=object)\n",
      "    \n",
      "    Thus far, we've only factorized lists (which are internally coerced to\n",
      "    NumPy arrays). When factorizing pandas objects, the type of `uniques`\n",
      "    will differ. For Categoricals, a `Categorical` is returned.\n",
      "    \n",
      "    >>> cat = pd.Categorical(['a', 'a', 'c'], categories=['a', 'b', 'c'])\n",
      "    >>> codes, uniques = pd.factorize(cat)\n",
      "    >>> codes\n",
      "    array([0, 0, 1]...)\n",
      "    >>> uniques\n",
      "    ['a', 'c']\n",
      "    Categories (3, object): ['a', 'b', 'c']\n",
      "    \n",
      "    Notice that ``'b'`` is in ``uniques.categories``, despite not being\n",
      "    present in ``cat.values``.\n",
      "    \n",
      "    For all other pandas objects, an Index of the appropriate type is\n",
      "    returned.\n",
      "    \n",
      "    >>> cat = pd.Series(['a', 'a', 'c'])\n",
      "    >>> codes, uniques = pd.factorize(cat)\n",
      "    >>> codes\n",
      "    array([0, 0, 1]...)\n",
      "    >>> uniques\n",
      "    Index(['a', 'c'], dtype='object')\n",
      "    \n",
      "    If NaN is in the values, and we want to include NaN in the uniques of the\n",
      "    values, it can be achieved by setting ``na_sentinel=None``.\n",
      "    \n",
      "    >>> values = np.array([1, 2, 1, np.nan])\n",
      "    >>> codes, uniques = pd.factorize(values)  # default: na_sentinel=-1\n",
      "    >>> codes\n",
      "    array([ 0,  1,  0, -1])\n",
      "    >>> uniques\n",
      "    array([1., 2.])\n",
      "    \n",
      "    >>> codes, uniques = pd.factorize(values, na_sentinel=None)\n",
      "    >>> codes\n",
      "    array([0, 1, 0, 2])\n",
      "    >>> uniques\n",
      "    array([ 1.,  2., nan])\n",
      "\n"
     ]
    }
   ],
   "source": [
    "help(pd.factorize)"
   ]
  },
  {
   "cell_type": "code",
   "execution_count": 47,
   "id": "8a7594ad",
   "metadata": {},
   "outputs": [],
   "source": [
    "df['status'] = pd.get_dummies(df['status'])"
   ]
  },
  {
   "cell_type": "code",
   "execution_count": 56,
   "id": "de4bda01",
   "metadata": {},
   "outputs": [
    {
     "data": {
      "text/plain": [
       "5"
      ]
     },
     "execution_count": 56,
     "metadata": {},
     "output_type": "execute_result"
    }
   ],
   "source": [
    "df[df['status'] == 1]['testcasename'].count()"
   ]
  },
  {
   "cell_type": "code",
   "execution_count": 51,
   "id": "a4d16c63",
   "metadata": {
    "scrolled": true
   },
   "outputs": [
    {
     "data": {
      "text/plain": [
       "1    5\n",
       "0    3\n",
       "Name: status, dtype: int64"
      ]
     },
     "execution_count": 51,
     "metadata": {},
     "output_type": "execute_result"
    }
   ],
   "source": [
    "df['status'].value_counts()"
   ]
  },
  {
   "cell_type": "code",
   "execution_count": 48,
   "id": "a64a72d6",
   "metadata": {
    "scrolled": true
   },
   "outputs": [
    {
     "data": {
      "text/html": [
       "<div>\n",
       "<style scoped>\n",
       "    .dataframe tbody tr th:only-of-type {\n",
       "        vertical-align: middle;\n",
       "    }\n",
       "\n",
       "    .dataframe tbody tr th {\n",
       "        vertical-align: top;\n",
       "    }\n",
       "\n",
       "    .dataframe thead th {\n",
       "        text-align: right;\n",
       "    }\n",
       "</style>\n",
       "<table border=\"1\" class=\"dataframe\">\n",
       "  <thead>\n",
       "    <tr style=\"text-align: right;\">\n",
       "      <th></th>\n",
       "      <th>testcasename</th>\n",
       "      <th>expected</th>\n",
       "      <th>results</th>\n",
       "      <th>status</th>\n",
       "    </tr>\n",
       "  </thead>\n",
       "  <tbody>\n",
       "    <tr>\n",
       "      <th>0</th>\n",
       "      <td>test1</td>\n",
       "      <td>10.000000</td>\n",
       "      <td>20.000000</td>\n",
       "      <td>1</td>\n",
       "    </tr>\n",
       "    <tr>\n",
       "      <th>1</th>\n",
       "      <td>test2</td>\n",
       "      <td>20.000000</td>\n",
       "      <td>20.000000</td>\n",
       "      <td>0</td>\n",
       "    </tr>\n",
       "    <tr>\n",
       "      <th>2</th>\n",
       "      <td>test3</td>\n",
       "      <td>50.000000</td>\n",
       "      <td>50.000000</td>\n",
       "      <td>0</td>\n",
       "    </tr>\n",
       "    <tr>\n",
       "      <th>3</th>\n",
       "      <td>test4</td>\n",
       "      <td>15.000000</td>\n",
       "      <td>15.000000</td>\n",
       "      <td>0</td>\n",
       "    </tr>\n",
       "    <tr>\n",
       "      <th>4</th>\n",
       "      <td>test5</td>\n",
       "      <td>25.000000</td>\n",
       "      <td>20.000000</td>\n",
       "      <td>1</td>\n",
       "    </tr>\n",
       "    <tr>\n",
       "      <th>5</th>\n",
       "      <td>test6</td>\n",
       "      <td>20.833333</td>\n",
       "      <td>30.000000</td>\n",
       "      <td>1</td>\n",
       "    </tr>\n",
       "    <tr>\n",
       "      <th>6</th>\n",
       "      <td>test7</td>\n",
       "      <td>20.833333</td>\n",
       "      <td>25.833333</td>\n",
       "      <td>1</td>\n",
       "    </tr>\n",
       "    <tr>\n",
       "      <th>7</th>\n",
       "      <td>test8</td>\n",
       "      <td>5.000000</td>\n",
       "      <td>25.833333</td>\n",
       "      <td>1</td>\n",
       "    </tr>\n",
       "  </tbody>\n",
       "</table>\n",
       "</div>"
      ],
      "text/plain": [
       "  testcasename   expected    results  status\n",
       "0        test1  10.000000  20.000000       1\n",
       "1        test2  20.000000  20.000000       0\n",
       "2        test3  50.000000  50.000000       0\n",
       "3        test4  15.000000  15.000000       0\n",
       "4        test5  25.000000  20.000000       1\n",
       "5        test6  20.833333  30.000000       1\n",
       "6        test7  20.833333  25.833333       1\n",
       "7        test8   5.000000  25.833333       1"
      ]
     },
     "execution_count": 48,
     "metadata": {},
     "output_type": "execute_result"
    }
   ],
   "source": [
    "df"
   ]
  },
  {
   "cell_type": "code",
   "execution_count": 50,
   "id": "ad374350",
   "metadata": {},
   "outputs": [
    {
     "data": {
      "text/plain": [
       "<AxesSubplot:xlabel='testcasename'>"
      ]
     },
     "execution_count": 50,
     "metadata": {},
     "output_type": "execute_result"
    },
    {
     "data": {
      "image/png": "[encoded data removed]",
      "text/plain": [
       "<Figure size 432x288 with 1 Axes>"
      ]
     },
     "metadata": {
      "needs_background": "light"
     },
     "output_type": "display_data"
    }
   ],
   "source": [
    "df.plot.bar(0,-1)"
   ]
  },
  {
   "cell_type": "code",
   "execution_count": null,
   "id": "47831839",
   "metadata": {},
   "outputs": [],
   "source": []
  }
 ],
 "metadata": {
  "kernelspec": {
   "display_name": "Python 3",
   "language": "python",
   "name": "python3"
  },
  "language_info": {
   "codemirror_mode": {
    "name": "ipython",
    "version": 3
   },
   "file_extension": ".py",
   "mimetype": "text/x-python",
   "name": "python",
   "nbconvert_exporter": "python",
   "pygments_lexer": "ipython3",
   "version": "3.8.5"
  }
 },
 "nbformat": 4,
 "nbformat_minor": 5
}
