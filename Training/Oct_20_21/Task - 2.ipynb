{
 "cells": [
  {
   "cell_type": "markdown",
   "id": "07b9180f",
   "metadata": {},
   "source": [
    "## Task2:-\n",
    "---\n",
    "from https://in.bookmyshow.com/explore/home/bengaluru\n",
    "\n",
    "extract  - movie name\n",
    "         - language\n",
    "         - rating \n",
    "         - no of likes\n",
    "\n",
    "store them in a DICTIONARY \n"
   ]
  },
  {
   "cell_type": "code",
   "execution_count": 11,
   "id": "8a0461b0",
   "metadata": {},
   "outputs": [],
   "source": [
    "from urllib.request import Request, urlopen\n",
    "from bs4 import BeautifulSoup as bs"
   ]
  },
  {
   "cell_type": "code",
   "execution_count": 84,
   "id": "579ed49f",
   "metadata": {},
   "outputs": [
    {
     "name": "stdout",
     "output_type": "stream",
     "text": [
      "['Venom: Let There Be Carnage', 'Kotigobba 3', 'Salaga', 'Doctor', 'Tarzan & Trike Coaster (7D)']\n"
     ]
    }
   ],
   "source": [
    "headers = {'User-Agent': 'Mozilla/5.0 (Windows NT 6.1) AppleWebKit/537.36 (KHTML, like Gecko) Chrome/41.0.2228.0 Safari/537.3'}\n",
    "reg_url = 'https://in.bookmyshow.com/explore/home/bengaluru'\n",
    "req = Request(url=reg_url, headers=headers)\n",
    "html = urlopen(req)\n",
    "\n",
    "soup = bs(html,'lxml')\n",
    "movies = []\n",
    "ratings = []\n",
    "likes = []\n",
    "language = []\n",
    "movie_div = soup.find_all('div',attrs = {'class':'style__StyledText-sc-7o7nez-0 kEJnGr'})\n",
    "for movie in movie_div:\n",
    "    movies.append(movie.text)\n",
    "print(movies)\n"
   ]
  },
  {
   "cell_type": "markdown",
   "id": "1e4d8d30",
   "metadata": {},
   "source": [
    "##### Get the navigated links to fetch remaining terms"
   ]
  },
  {
   "cell_type": "code",
   "execution_count": 35,
   "id": "590a46cb",
   "metadata": {
    "scrolled": false
   },
   "outputs": [
    {
     "name": "stdout",
     "output_type": "stream",
     "text": [
      "['https://in.bookmyshow.com/bengaluru/movies/venom-let-there-be-carnage/ET00122532', 'https://in.bookmyshow.com/bengaluru/movies/kotigobba-3/ET00071828', 'https://in.bookmyshow.com/bengaluru/movies/salaga/ET00124531', 'https://in.bookmyshow.com/bengaluru/movies/doctor/ET00305742', 'https://in.bookmyshow.com/bengaluru/movies/tarzan-trike-coaster-7d/ET00303386']\n"
     ]
    }
   ],
   "source": [
    "a = soup.find_all('a',attrs={'class':\"commonStyles__LinkWrapper-sc-133848s-11 style__CardContainer-sc-lnhrs7-3 kbzYpr\"})\n",
    "nav_links = []\n",
    "for i in a:\n",
    "    if 'href' in i.attrs:\n",
    "        nav_links.append(i.attrs['href'])\n",
    "print(nav_links)"
   ]
  },
  {
   "cell_type": "code",
   "execution_count": 83,
   "id": "20052a73",
   "metadata": {},
   "outputs": [
    {
     "name": "stdout",
     "output_type": "stream",
     "text": [
      "[['English', 'Hindi', 'Tamil', 'Telugu'], ['Kannada'], ['Kannada'], ['Tamil'], ['NONE']]\n",
      "['26.3K ratings', '13.6K ratings', '12.3K ratings', '54.9K ratings']\n",
      "['82%', '80%', '88%', '90%']\n"
     ]
    }
   ],
   "source": [
    "ratings = []\n",
    "likes = []\n",
    "languages = []\n",
    "\n",
    "def change_url(url):\n",
    "    headers = {'User-Agent': 'Mozilla/5.0 (Windows NT 6.1) AppleWebKit/537.36 (KHTML, like Gecko) Chrome/41.0.2228.0 Safari/537.3'}\n",
    "    reg_url = url\n",
    "    req = Request(url=reg_url, headers=headers)\n",
    "    html = urlopen(req)\n",
    "    soup = bs(html,'lxml')\n",
    "    language = []\n",
    "    # read language\n",
    "    lang = soup.find('div',attrs = {'class':'styles__EventAttributesContainer-sc-2k6tnd-1 hSMSQi'})\n",
    "    for i in lang:\n",
    "        try:\n",
    "            b = i.find_all('a')\n",
    "        except:\n",
    "            language.append('NONE')\n",
    "    for i in b:\n",
    "        language.append(i.text)\n",
    "    languages.append(language)\n",
    "    \n",
    "    # read rating\n",
    "    rati = soup.find_all('span',attrs = {'class':'styles__Subtitle-sc-ec6ph5-4 dpFOgW'})\n",
    "    for i in rati:\n",
    "        ratings.append(i.text)\n",
    "    # read likes percentage \n",
    "    like = soup.find_all('span',attrs = {'styles__Title-sc-ec6ph5-3 eADFBc'})\n",
    "    for i in like:\n",
    "        likes.append(i.text)\n",
    "    \n",
    "# call the function by iterating through navigation links\n",
    "for navlink in nav_links:\n",
    "    change_url(navlink)\n",
    "    \n",
    "print(languages)\n",
    "print(ratings)\n",
    "print(likes)\n",
    "\n"
   ]
  },
  {
   "cell_type": "code",
   "execution_count": null,
   "id": "f38faa3f",
   "metadata": {},
   "outputs": [],
   "source": []
  }
 ],
 "metadata": {
  "kernelspec": {
   "display_name": "Python 3",
   "language": "python",
   "name": "python3"
  },
  "language_info": {
   "codemirror_mode": {
    "name": "ipython",
    "version": 3
   },
   "file_extension": ".py",
   "mimetype": "text/x-python",
   "name": "python",
   "nbconvert_exporter": "python",
   "pygments_lexer": "ipython3",
   "version": "3.8.5"
  }
 },
 "nbformat": 4,
 "nbformat_minor": 5
}
