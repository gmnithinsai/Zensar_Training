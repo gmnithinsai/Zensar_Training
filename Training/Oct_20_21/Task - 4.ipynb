{
 "cells": [
  {
   "cell_type": "markdown",
   "id": "6698d227",
   "metadata": {},
   "source": [
    "## Task4:-\n",
    "\n",
    "\n",
    "read the data.xml file & PREPARE a JSON TEXT \n"
   ]
  },
  {
   "cell_type": "code",
   "execution_count": 1,
   "id": "410efc00",
   "metadata": {},
   "outputs": [],
   "source": [
    "import json"
   ]
  },
  {
   "cell_type": "code",
   "execution_count": 3,
   "id": "3b31cc17",
   "metadata": {},
   "outputs": [],
   "source": [
    "import xmltodict"
   ]
  },
  {
   "cell_type": "code",
   "execution_count": 4,
   "id": "ae736fc1",
   "metadata": {},
   "outputs": [],
   "source": [
    "with open('data.xml') as xmlfile:\n",
    "    data_dict = xmltodict.parse(xmlfile.read())\n",
    "xmlfile.close()"
   ]
  },
  {
   "cell_type": "code",
   "execution_count": 5,
   "id": "981d02db",
   "metadata": {},
   "outputs": [],
   "source": [
    "json_data = json.dumps(data_dict)"
   ]
  },
  {
   "cell_type": "code",
   "execution_count": 6,
   "id": "52adab90",
   "metadata": {},
   "outputs": [],
   "source": [
    "with open('data.json','w') as json_file:\n",
    "    json_file.write(json_data)\n",
    "json_file.close()\n",
    "    "
   ]
  },
  {
   "cell_type": "code",
   "execution_count": 7,
   "id": "593cbe89",
   "metadata": {},
   "outputs": [
    {
     "data": {
      "text/plain": [
       "'{\"students\": {\"record\": [{\"name\": \"arun\", \"branch\": \"CSE\"}, {\"name\": \"RAvi\", \"branch\": \"ECE\", \"loc\": \"blr\"}, {\"name\": \"hari\", \"branch\": \"mech\", \"loc\": \"blr\"}, {\"name\": \"john\", \"branch\": \"civ\", \"loc\": \"blr\"}]}}'"
      ]
     },
     "execution_count": 7,
     "metadata": {},
     "output_type": "execute_result"
    }
   ],
   "source": [
    "data = open('data.json','r')\n",
    "data.read()"
   ]
  },
  {
   "cell_type": "code",
   "execution_count": null,
   "id": "4f922e7b",
   "metadata": {},
   "outputs": [],
   "source": []
  }
 ],
 "metadata": {
  "kernelspec": {
   "display_name": "Python 3",
   "language": "python",
   "name": "python3"
  },
  "language_info": {
   "codemirror_mode": {
    "name": "ipython",
    "version": 3
   },
   "file_extension": ".py",
   "mimetype": "text/x-python",
   "name": "python",
   "nbconvert_exporter": "python",
   "pygments_lexer": "ipython3",
   "version": "3.8.5"
  }
 },
 "nbformat": 4,
 "nbformat_minor": 5
}
