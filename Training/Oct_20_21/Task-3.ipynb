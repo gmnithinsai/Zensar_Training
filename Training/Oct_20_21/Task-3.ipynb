{
 "cells": [
  {
   "cell_type": "code",
   "execution_count": 13,
   "id": "17f3552d",
   "metadata": {},
   "outputs": [],
   "source": [
    "import pandas as pd\n",
    "from bs4 import BeautifulSoup as bs"
   ]
  },
  {
   "cell_type": "code",
   "execution_count": 8,
   "id": "cc607698",
   "metadata": {},
   "outputs": [],
   "source": [
    "import xml.etree.ElementTree"
   ]
  },
  {
   "cell_type": "code",
   "execution_count": 9,
   "id": "5718f030",
   "metadata": {},
   "outputs": [],
   "source": [
    "a  = xml.etree.ElementTree.parse('data.xml')"
   ]
  },
  {
   "cell_type": "code",
   "execution_count": 12,
   "id": "8db8ce59",
   "metadata": {},
   "outputs": [
    {
     "data": {
      "text/plain": [
       "<xml.etree.ElementTree.ElementTree at 0x24a4e1b0880>"
      ]
     },
     "execution_count": 12,
     "metadata": {},
     "output_type": "execute_result"
    }
   ],
   "source": [
    "a"
   ]
  },
  {
   "cell_type": "code",
   "execution_count": 11,
   "id": "8c8dcdc4",
   "metadata": {
    "scrolled": true
   },
   "outputs": [
    {
     "name": "stdout",
     "output_type": "stream",
     "text": [
      "<students>   \n",
      " <record>\n",
      "  <name>arun</name>\n",
      "  <branch>CSE</branch>\n",
      "  </record>\n",
      "\n",
      " <record>\n",
      "  <name>RAvi</name>\n",
      "  <branch>ECE</branch>\n",
      "  <loc>blr</loc>\n",
      " </record>\n",
      "\n",
      "\n",
      " <record>\n",
      "  <name>hari</name>\n",
      "  <branch>mech</branch>\n",
      "  <loc>blr</loc>\n",
      " </record>\n",
      "\n",
      " <record>\n",
      "  <name>john</name>\n",
      "  <branch>civ</branch>\n",
      "  <loc>blr</loc>\n",
      " </record>\n",
      "\n",
      "</students>\n",
      "\n"
     ]
    }
   ],
   "source": [
    "file = open('data.xml','r')\n",
    "contents = file.read()\n",
    "print(contents)"
   ]
  },
  {
   "cell_type": "code",
   "execution_count": 20,
   "id": "dbe9717a",
   "metadata": {},
   "outputs": [
    {
     "data": {
      "text/html": [
       "<div>\n",
       "<style scoped>\n",
       "    .dataframe tbody tr th:only-of-type {\n",
       "        vertical-align: middle;\n",
       "    }\n",
       "\n",
       "    .dataframe tbody tr th {\n",
       "        vertical-align: top;\n",
       "    }\n",
       "\n",
       "    .dataframe thead th {\n",
       "        text-align: right;\n",
       "    }\n",
       "</style>\n",
       "<table border=\"1\" class=\"dataframe\">\n",
       "  <thead>\n",
       "    <tr style=\"text-align: right;\">\n",
       "      <th></th>\n",
       "      <th>Name</th>\n",
       "      <th>Branch</th>\n",
       "      <th>Location</th>\n",
       "    </tr>\n",
       "  </thead>\n",
       "  <tbody>\n",
       "    <tr>\n",
       "      <th>0</th>\n",
       "      <td>arun</td>\n",
       "      <td>CSE</td>\n",
       "      <td>None</td>\n",
       "    </tr>\n",
       "    <tr>\n",
       "      <th>1</th>\n",
       "      <td>RAvi</td>\n",
       "      <td>ECE</td>\n",
       "      <td>blr</td>\n",
       "    </tr>\n",
       "    <tr>\n",
       "      <th>2</th>\n",
       "      <td>hari</td>\n",
       "      <td>mech</td>\n",
       "      <td>blr</td>\n",
       "    </tr>\n",
       "    <tr>\n",
       "      <th>3</th>\n",
       "      <td>john</td>\n",
       "      <td>civ</td>\n",
       "      <td>blr</td>\n",
       "    </tr>\n",
       "  </tbody>\n",
       "</table>\n",
       "</div>"
      ],
      "text/plain": [
       "   Name Branch Location\n",
       "0  arun    CSE     None\n",
       "1  RAvi    ECE      blr\n",
       "2  hari   mech      blr\n",
       "3  john    civ      blr"
      ]
     },
     "metadata": {},
     "output_type": "display_data"
    }
   ],
   "source": [
    "soup = bs(contents,'xml')\n",
    "names = soup.find_all('name')\n",
    "branches = soup.find_all('branch')\n",
    "loc = soup.find_all('loc')\n",
    "\n",
    "name = []\n",
    "branch = []\n",
    "location = ['None']\n",
    "def get_text(param1, param2):\n",
    "    for i in param1:\n",
    "        param2.append(i.text)\n",
    "            \n",
    "        \n",
    "get_text(names, name)\n",
    "get_text(branches, branch)\n",
    "get_text(loc, location)\n",
    "        \n",
    "df = pd.DataFrame({'Name':name,'Branch':branch,'Location':location})\n",
    "display(df)"
   ]
  },
  {
   "cell_type": "code",
   "execution_count": 24,
   "id": "1331f76c",
   "metadata": {},
   "outputs": [
    {
     "name": "stdout",
     "output_type": "stream",
     "text": [
      "['NONE', 'blr', 'blr', 'blr']\n"
     ]
    }
   ],
   "source": [
    "a = soup.find_all('record')\n",
    "x = []\n",
    "for i in a:\n",
    "    c=i.find('loc')\n",
    "    if c:\n",
    "        x.append(c.text)\n",
    "    else:\n",
    "        x.append('NONE')\n",
    "        \n",
    "print(x)"
   ]
  },
  {
   "cell_type": "code",
   "execution_count": null,
   "id": "874f7dfb",
   "metadata": {},
   "outputs": [],
   "source": []
  }
 ],
 "metadata": {
  "kernelspec": {
   "display_name": "Python 3",
   "language": "python",
   "name": "python3"
  },
  "language_info": {
   "codemirror_mode": {
    "name": "ipython",
    "version": 3
   },
   "file_extension": ".py",
   "mimetype": "text/x-python",
   "name": "python",
   "nbconvert_exporter": "python",
   "pygments_lexer": "ipython3",
   "version": "3.8.5"
  }
 },
 "nbformat": 4,
 "nbformat_minor": 5
}
